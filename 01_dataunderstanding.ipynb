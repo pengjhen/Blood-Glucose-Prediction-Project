{
 "cells": [
  {
   "cell_type": "code",
   "execution_count": 1,
   "id": "09394a89",
   "metadata": {},
   "outputs": [
    {
     "name": "stderr",
     "output_type": "stream",
     "text": [
      "/Users/peggylee/anaconda3/envs/Peggy/lib/python3.12/site-packages/threadpoolctl.py:1186: RuntimeWarning: \n",
      "Found Intel OpenMP ('libiomp') and LLVM OpenMP ('libomp') loaded at\n",
      "the same time. Both libraries are known to be incompatible and this\n",
      "can cause random crashes or deadlocks on Linux when loaded in the\n",
      "same Python program.\n",
      "Using threadpoolctl may cause crashes or deadlocks. For more\n",
      "information and possible workarounds, please see\n",
      "    https://github.com/joblib/threadpoolctl/blob/master/multiple_openmp.md\n",
      "\n",
      "  warnings.warn(msg, RuntimeWarning)\n"
     ]
    }
   ],
   "source": [
    "import numpy as np\n",
    "import pandas as pd\n",
    "import matplotlib.pyplot as plt\n",
    "%matplotlib inline\n",
    "from datetime import datetime\n",
    "from sklearn.preprocessing import MinMaxScaler\n",
    "import warnings\n",
    "warnings.filterwarnings(\"ignore\")"
   ]
  },
  {
   "cell_type": "code",
   "execution_count": 2,
   "id": "85ef3474",
   "metadata": {},
   "outputs": [],
   "source": [
    "path = '/Users/peggylee/Desktop/python/Kaggle_comptete/02_Data/original_data'\n",
    "sample = pd.read_csv(f\"{path}/sample_submission.csv\")\n",
    "train = pd.read_csv(f\"{path}/train.csv\")\n",
    "test = pd.read_csv(f\"{path}/test.csv\")"
   ]
  },
  {
   "cell_type": "code",
   "execution_count": 3,
   "id": "bef90b55",
   "metadata": {},
   "outputs": [
    {
     "name": "stdout",
     "output_type": "stream",
     "text": [
      "train shape:  (177024, 508)\n",
      "test shape:  (3644, 507)\n",
      "train unique participants:  9\n",
      "train unique participants:  ['p01' 'p02' 'p03' 'p04' 'p05' 'p06' 'p10' 'p11' 'p12']\n",
      "test unique participants:  15\n",
      "test unique participants:  ['p01' 'p02' 'p04' 'p05' 'p06' 'p10' 'p11' 'p12' 'p15' 'p16' 'p18' 'p19'\n",
      " 'p21' 'p22' 'p24']\n"
     ]
    }
   ],
   "source": [
    "print(\"train shape: \",train.shape)\n",
    "print(\"test shape: \", test.shape)\n",
    "print(\"train unique participants: \", len(train['p_num'].unique()))\n",
    "print(\"train unique participants: \", train['p_num'].unique())\n",
    "print(\"test unique participants: \", len(test['p_num'].unique()))\n",
    "print(\"test unique participants: \", test['p_num'].unique())"
   ]
  },
  {
   "cell_type": "code",
   "execution_count": 4,
   "id": "3c7b0467",
   "metadata": {},
   "outputs": [
    {
     "data": {
      "text/plain": [
       "count        9.000000\n",
       "mean     19669.333333\n",
       "std       8482.964959\n",
       "min       8288.000000\n",
       "25%       8459.000000\n",
       "50%      24686.000000\n",
       "75%      25454.000000\n",
       "max      26028.000000\n",
       "Name: count, dtype: float64"
      ]
     },
     "execution_count": 4,
     "metadata": {},
     "output_type": "execute_result"
    }
   ],
   "source": [
    "## train data ##\n",
    "id_train = train[['id','p_num']]\n",
    "id_train1 = id_train.groupby('p_num').agg(count = ('p_num','size')).reset_index()\n",
    "id_train1['count'].describe()"
   ]
  },
  {
   "cell_type": "code",
   "execution_count": 5,
   "id": "2e2b4a94",
   "metadata": {},
   "outputs": [
    {
     "data": {
      "text/plain": [
       "count     15.000000\n",
       "mean     242.933333\n",
       "std       30.674481\n",
       "min      179.000000\n",
       "25%      229.000000\n",
       "50%      244.000000\n",
       "75%      259.500000\n",
       "max      294.000000\n",
       "Name: count, dtype: float64"
      ]
     },
     "execution_count": 5,
     "metadata": {},
     "output_type": "execute_result"
    }
   ],
   "source": [
    "## test data ##\n",
    "id_test = test[['id','p_num']]\n",
    "id_test1 = id_test.groupby('p_num').agg(count = ('p_num','size')).reset_index()\n",
    "id_test1['count'].describe()"
   ]
  },
  {
   "cell_type": "code",
   "execution_count": 6,
   "id": "469271ff",
   "metadata": {},
   "outputs": [],
   "source": [
    "fixed_train = ['id','p_num','time','bg+1:00']\n",
    "fixed_test = ['id','p_num','time']\n",
    "\n",
    "### train ###\n",
    "bg_bf_train = train.columns[train.columns.str.startswith('bg-')]\n",
    "insulin_bf_train = train.columns[train.columns.str.startswith('insulin-')]\n",
    "carbs_bf_train = train.columns[train.columns.str.startswith('carbs-')]\n",
    "hr_bf_train = train.columns[train.columns.str.startswith('hr-')]\n",
    "step_bf_train = train.columns[train.columns.str.startswith('steps-')]\n",
    "cals_bf_train = train.columns[train.columns.str.startswith('cals-')]\n",
    "activity_bf_train = train.columns[train.columns.str.startswith('activity-')]\n",
    "\n",
    "### test ###\n",
    "bg_bf_test = test.columns[test.columns.str.startswith('bg-')]\n",
    "insulin_bf_test = test.columns[test.columns.str.startswith('insulin-')]\n",
    "carbs_bf_test = test.columns[test.columns.str.startswith('carbs-')]\n",
    "hr_bf_test = test.columns[test.columns.str.startswith('hr-')]\n",
    "step_bf_test = test.columns[test.columns.str.startswith('steps-')]\n",
    "cals_bf_test = test.columns[test.columns.str.startswith('cals-')]\n",
    "activity_bf_test = test.columns[test.columns.str.startswith('activity-')]"
   ]
  },
  {
   "cell_type": "code",
   "execution_count": 7,
   "id": "63238a08",
   "metadata": {},
   "outputs": [],
   "source": [
    "def melt_column(colnames,df,newcolname,newcolvalue,fixed_col):\n",
    "    df_melt = pd.melt(df,id_vars = fixed_col, value_vars = colnames, var_name = newcolname, value_name = newcolvalue)\n",
    "    return(df_melt)\n",
    "\n",
    "\n",
    "def reshape_df(df,type_data):\n",
    "    temp1 = df\n",
    "    temp1.loc[:, 'time_temp'] = pd.to_datetime(temp1['time'], format=\"%H:%M:%S\").dt.time\n",
    "    ### day made ###\n",
    "    day = [1]*len(temp1)\n",
    "    k = 1\n",
    "    for i in range(1, len(temp1)):\n",
    "        if temp1['time_temp'].iloc[i] <= temp1['time_temp'].iloc[i - 1]:\n",
    "            k += 1\n",
    "        day[i] = k\n",
    "    temp1['day'] = day\n",
    "    max_time = max(day)\n",
    "    \n",
    "    ### time sequence ###\n",
    "    time_sequence = pd.date_range(\"00:00\", \"23:55\", freq=\"5T\").time\n",
    "    time_sequence_data = pd.DataFrame({\n",
    "        'time_seq': np.tile([t.strftime(\"%H:%M:%S\") for t in time_sequence], max_time),\n",
    "        'day': np.repeat(np.arange(1, max_time + 1), len(time_sequence)),\n",
    "        'bg_measure': np.nan\n",
    "    })\n",
    "    temp1.loc[:,'time_pre'] = pd.to_datetime(temp1['time'], format = \"%H:%M:%S\")\n",
    "    ### outcome ###\n",
    "    if type_data == \"train\":\n",
    "        temp1.loc[:,'time_pre_seconds'] = temp1['time_pre'].dt.hour * 3600 + temp1['time_pre'].dt.minute * 60 + temp1['time_pre'].dt.second\n",
    "        temp1.loc[:,'time_pre_seconds'] += 3600  # 加一小時\n",
    "        temp1.loc[:,'day_outcome'] = np.where(temp1['time_pre_seconds'] >= 86400, temp1['day'] + 1, temp1['day']) #day_new\n",
    "        temp1.loc[:,'time_pre_outcome'] = pd.to_timedelta(temp1['time_pre_seconds'], unit='s')\n",
    "        temp1.loc[:,'time_pre_outcome'] = temp1['time_pre_outcome'].apply(lambda x: str(x).split()[2])\n",
    "    if type_data == \"test\":\n",
    "        temp1.loc[:,'time_pre_seconds'] = temp1['time_pre'].dt.hour * 3600 + temp1['time_pre'].dt.minute * 60 + temp1['time_pre'].dt.second\n",
    "        temp1.loc[:,'time_pre_seconds'] += 3600  # 加一小時\n",
    "        temp1.loc[:,'day_outcome'] = np.where(temp1['time_pre_seconds'] >= 86400, temp1['day'] + 1, temp1['day']) #day_new\n",
    "        temp1.loc[:,'time_pre_outcome'] = pd.to_timedelta(temp1['time_pre_seconds'], unit='s')\n",
    "        temp1.loc[:,'time_pre_outcome'] = temp1['time_pre_outcome'].apply(lambda x: str(x).split()[2])\n",
    "        temp2 = temp1[['day_outcome','time_pre_outcome',\"id\",\"p_num\"]]\n",
    "    ### reshape: wide to long ### \n",
    "    col_temp = temp1.columns[3:507]\n",
    "    fixed_colname = temp1.drop(columns=col_temp).columns # fixed_colname_train\n",
    "\n",
    "\n",
    "    ### feature ###\n",
    "    bg_bf = temp1.columns[temp1.columns.str.startswith('bg-')]\n",
    "    insulin_bf = temp1.columns[temp1.columns.str.startswith('insulin-')]\n",
    "    carbs_bf = temp1.columns[temp1.columns.str.startswith('carbs-')]\n",
    "    hr_bf = temp1.columns[temp1.columns.str.startswith('hr-')]\n",
    "    step_bf = temp1.columns[temp1.columns.str.startswith('steps-')]\n",
    "    cals_bf = temp1.columns[temp1.columns.str.startswith('cals-')]\n",
    "    activity_bf = temp1.columns[temp1.columns.str.startswith('activity-')]\n",
    "    \n",
    "    ### wideform to longform ###\n",
    "    bg_melt = melt_column(bg_bf,temp1,\"bg_time\",\"bg_value\",fixed_col = fixed_colname)\n",
    "    insulin_melt = melt_column(insulin_bf,temp1,\"insulin_time\",\"insulin_value\",fixed_col = fixed_colname)\n",
    "    carbs_melt = melt_column(carbs_bf,temp1,\"carbs_time\",\"carbs_value\",fixed_col = fixed_colname)\n",
    "    hr_melt = melt_column(hr_bf,temp1,\"hr_time\",\"hr_value\",fixed_col = fixed_colname)\n",
    "    step_melt = melt_column(step_bf,temp1,\"step_time\",\"step_value\",fixed_col = fixed_colname)\n",
    "    cals_melt = melt_column(cals_bf,temp1,\"cals_time\",\"cals_value\",fixed_col = fixed_colname)\n",
    "    activity_melt = melt_column(activity_bf,temp1,\"activity_time\",\"activity_value\",fixed_col = fixed_colname)\n",
    "\n",
    "    ### combine ###\n",
    "    melt_pre1 = pd.concat([bg_melt,insulin_melt.drop(columns = fixed_colname)],axis = 1)\n",
    "    melt_pre1 = pd.concat([melt_pre1,carbs_melt.drop(columns = fixed_colname)],axis = 1)\n",
    "    melt_pre1 = pd.concat([melt_pre1,hr_melt.drop(columns = fixed_colname)],axis = 1)\n",
    "    melt_pre1 = pd.concat([melt_pre1,step_melt.drop(columns = fixed_colname)],axis = 1)\n",
    "    melt_pre1 = pd.concat([melt_pre1,cals_melt.drop(columns = fixed_colname)],axis = 1)\n",
    "    melt_final = pd.concat([melt_pre1,activity_melt.drop(columns = fixed_colname)],axis = 1)\n",
    "    ### organize train data ###\n",
    "    melt_final.loc[:,'bg_time'] = melt_final['bg_time'].str.extract(r'(.*)-(.*)')[1]\n",
    "    melt_final.loc[:,'bg_time1'] = pd.to_datetime(melt_final['bg_time'].str.pad(5, fillchar='0') + \":00\", format = \"%H:%M:%S\")\n",
    "    melt_final.loc[:,'bg_time2'] = (melt_final['time_pre'] - melt_final['bg_time1']).dt.total_seconds()\n",
    "    melt_final.loc[:,'final_time'] = pd.to_timedelta(melt_final['bg_time2'], unit='s')\n",
    "    melt_final.loc[:,'day_final'] = np.where(melt_final['bg_time2']< 0,melt_final['day'] - 1, melt_final['day'])\n",
    "    melt_final.loc[:,'final_time1'] = melt_final['final_time'].apply(lambda x: str(x).split()[-1].replace('+', '').replace('-', ''))\n",
    "\n",
    "    \n",
    "    ### outcome ###\n",
    "    if type_data == \"train\":\n",
    "        melt_final_outcome = melt_final[['day_outcome','time_pre_outcome','bg+1:00','insulin_value','carbs_value','hr_value','step_value','cals_value','activity_value']]\n",
    "        melt_final_outcome = melt_final_outcome.sort_values(by = ['day_outcome','time_pre_outcome']).drop_duplicates(subset = ['day_outcome','time_pre_outcome'],keep = 'first').reset_index(drop = True)\n",
    "\n",
    "    ### original ###\n",
    "    melt_final_original = melt_final[['day_final','final_time1','bg_value','insulin_value','carbs_value','hr_value','step_value','cals_value','activity_value']]\n",
    "    ### arrange and drop duplicates two dataset ###\n",
    "    melt_final_original =  melt_final_original.sort_values(by=['day_final','final_time1']).drop_duplicates(subset=['day_final','final_time1'], keep='first').reset_index(drop=True)\n",
    "    melt_final_original2 = pd.merge(melt_final_original,time_sequence_data , left_on= ['day_final', 'final_time1'], right_on = ['day','time_seq'], how='outer')\n",
    "    melt_final_original2 = melt_final_original2.drop(columns = ['day_final','final_time1','bg_measure']) \n",
    "    melt_final_original2 = melt_final_original2.sort_values(by = ['day','time_seq']).drop_duplicates(subset=['day','time_seq'], keep='first').reset_index(drop=True)\n",
    "    melt_final_original2 = melt_final_original2.dropna(subset=['day','time_seq'], how='all')\n",
    "    ## rename data ##\n",
    "    if type_data == \"train\":    \n",
    "        melt_final_outcome1 = melt_final_outcome.rename(columns = {\n",
    "        'bg+1:00' : 'bg_value',\n",
    "        'time_pre_outcome' : 'time_seq',\n",
    "        'day_outcome' :'day'\n",
    "        })\n",
    "        col_order = melt_final_original2.columns\n",
    "        melt_final_outcome1 = melt_final_outcome1[col_order]\n",
    "    \n",
    "        ### only for train data ###\n",
    "        train_final = pd.concat([melt_final_original2,melt_final_outcome1],axis = 0).sort_values(by = ['day','time_seq']).drop_duplicates(subset = ['day','time_seq'],keep = 'first').reset_index(drop = True)\n",
    "    \n",
    "    if type_data == \"train\":\n",
    "        return{'train': train_final}\n",
    "    else:\n",
    "        return{'test': melt_final_original2,'output':temp2}\n",
    "\n",
    "\n"
   ]
  },
  {
   "cell_type": "code",
   "execution_count": 8,
   "id": "c4d4f882",
   "metadata": {},
   "outputs": [],
   "source": [
    "train_dict = {f'p{str(i).zfill(2)}_train': train[train['p_num'] == f'p{str(i).zfill(2)}'] for i in [1, 2, 3, 4, 5, 6, 10, 11, 12]}\n",
    "reshaped_train_dict = {}\n",
    "for key, df in train_dict.items():\n",
    "    reshaped_train_dict[key] = reshape_df(df, \"train\")"
   ]
  },
  {
   "cell_type": "code",
   "execution_count": 9,
   "id": "2b22f399",
   "metadata": {},
   "outputs": [],
   "source": [
    "test_dict = {f'p{str(i).zfill(2)}_test': test[test['p_num'] == f'p{str(i).zfill(2)}'] for i in [1, 2, 4, 5, 6, 10, 11, 12, 15, 16, 18 ,19, 21, 22, 24]}\n",
    "reshaped_test_dict = {}"
   ]
  },
  {
   "cell_type": "code",
   "execution_count": 10,
   "id": "d157ba09",
   "metadata": {},
   "outputs": [],
   "source": [
    "for key, df in test_dict.items():\n",
    "    reshaped_test_dict[key] = reshape_df(df, \"test\")"
   ]
  },
  {
   "cell_type": "code",
   "execution_count": 11,
   "id": "25bfad6a",
   "metadata": {},
   "outputs": [
    {
     "data": {
      "text/plain": [
       "{'p01_train': bg_value          51.129316\n",
       " insulin_value      0.158652\n",
       " carbs_value       98.352900\n",
       " hr_value           5.754752\n",
       " step_value        30.980471\n",
       " cals_value         1.300949\n",
       " activity_value    96.030807\n",
       " time_seq           0.000000\n",
       " day                0.000000\n",
       " dtype: float64,\n",
       " 'p02_train': bg_value           1.054079\n",
       " insulin_value      0.307440\n",
       " carbs_value       98.732050\n",
       " hr_value          78.727467\n",
       " step_value        84.146807\n",
       " cals_value        71.492133\n",
       " activity_value    99.060495\n",
       " time_seq           0.000000\n",
       " day                0.000000\n",
       " dtype: float64,\n",
       " 'p03_train': bg_value           0.753941\n",
       " insulin_value      0.131369\n",
       " carbs_value       98.808164\n",
       " hr_value          10.793161\n",
       " step_value        41.902749\n",
       " cals_value         5.652654\n",
       " activity_value    99.573528\n",
       " time_seq           0.000000\n",
       " day                0.000000\n",
       " dtype: float64,\n",
       " 'p04_train': bg_value           0.601102\n",
       " insulin_value      0.004021\n",
       " carbs_value       98.144425\n",
       " hr_value          49.392867\n",
       " step_value        62.800048\n",
       " cals_value        11.561658\n",
       " activity_value    98.840014\n",
       " time_seq           0.000000\n",
       " day                0.000000\n",
       " dtype: float64,\n",
       " 'p05_train': bg_value          52.308533\n",
       " insulin_value      0.008625\n",
       " carbs_value       98.369940\n",
       " hr_value          16.602461\n",
       " step_value        57.943307\n",
       " cals_value        23.913293\n",
       " activity_value    98.752300\n",
       " time_seq           0.000000\n",
       " day                0.000000\n",
       " dtype: float64,\n",
       " 'p06_train': bg_value          51.910892\n",
       " insulin_value      0.794174\n",
       " carbs_value       99.134149\n",
       " hr_value          20.682932\n",
       " step_value        37.323318\n",
       " cals_value         6.015081\n",
       " activity_value    97.302102\n",
       " time_seq           0.000000\n",
       " day                0.000000\n",
       " dtype: float64,\n",
       " 'p10_train': bg_value           0.768871\n",
       " insulin_value      0.089539\n",
       " carbs_value       98.596566\n",
       " hr_value           7.618640\n",
       " step_value        46.673415\n",
       " cals_value        24.636976\n",
       " activity_value    96.408689\n",
       " time_seq           0.000000\n",
       " day                0.000000\n",
       " dtype: float64,\n",
       " 'p11_train': bg_value           2.126049\n",
       " insulin_value     38.900512\n",
       " carbs_value       99.246817\n",
       " hr_value          38.729153\n",
       " step_value        59.895989\n",
       " cals_value         6.669058\n",
       " activity_value    98.156893\n",
       " time_seq           0.000000\n",
       " day                0.000000\n",
       " dtype: float64,\n",
       " 'p12_train': bg_value           2.305242\n",
       " insulin_value      0.843711\n",
       " carbs_value       97.762332\n",
       " hr_value           7.158992\n",
       " step_value        41.426779\n",
       " cals_value        11.732793\n",
       " activity_value    99.702674\n",
       " time_seq           0.000000\n",
       " day                0.000000\n",
       " dtype: float64}"
      ]
     },
     "execution_count": 11,
     "metadata": {},
     "output_type": "execute_result"
    }
   ],
   "source": [
    "missing_rate_dict = {}\n",
    "\n",
    "for key, sub_dict in reshaped_train_dict.items():\n",
    "    if 'train' in sub_dict:\n",
    "        df = sub_dict['train']\n",
    "        missing_rate = df.isnull().sum() / len(df) * 100\n",
    "        missing_rate_dict[key] = missing_rate\n",
    "        \n",
    "missing_rate_dict\n",
    "## carbs, step, activity_value missing value are high so dropout "
   ]
  },
  {
   "cell_type": "code",
   "execution_count": 12,
   "id": "698fb144",
   "metadata": {},
   "outputs": [],
   "source": [
    "train_dict_pre = {}\n",
    "\n",
    "for key,train_dict in reshaped_train_dict.items():\n",
    "    \n",
    "    if 'train' in train_dict:\n",
    "        df = train_dict['train']\n",
    "        df = df.fillna(method='ffill').fillna(method='bfill')\n",
    "        train_dict_pre[key] = df.drop(columns = ['carbs_value','step_value','activity_value','time_seq','day'])"
   ]
  },
  {
   "cell_type": "code",
   "execution_count": 13,
   "id": "e486f87b",
   "metadata": {},
   "outputs": [],
   "source": [
    "test_dict_pre = {}\n",
    "\n",
    "for key,test_dict in reshaped_test_dict.items():\n",
    "    if 'test' in test_dict:\n",
    "        df = test_dict['test']\n",
    "        df = df.fillna(method='ffill').fillna(method='bfill')\n",
    "        test_dict_pre[key] = df.drop(columns = ['carbs_value','step_value','activity_value','time_seq','day'])"
   ]
  },
  {
   "cell_type": "code",
   "execution_count": 14,
   "id": "d6e3ce02",
   "metadata": {},
   "outputs": [],
   "source": [
    "combined_train = pd.concat(train_dict_pre.values(), ignore_index=True)\n",
    "scaler = MinMaxScaler()\n",
    "combined_train_scaled = scaler.fit_transform(combined_train)\n",
    "combined_train_scaled_df = pd.DataFrame(combined_train_scaled, columns=combined_train.columns)"
   ]
  },
  {
   "cell_type": "code",
   "execution_count": 15,
   "id": "6bff76f6",
   "metadata": {},
   "outputs": [],
   "source": [
    "def lstm_format(df, time_steps):\n",
    "    X_data = []\n",
    "    y_data = []\n",
    "    L = len(df)\n",
    "    \n",
    "    for i in range(L - time_steps):\n",
    "        X_data.append(df[i:i+time_steps])\n",
    "        y_data.append(df[i+time_steps:i+time_steps+1]['bg_value'])\n",
    "    return np.array(X_data), np.array(y_data)"
   ]
  },
  {
   "cell_type": "code",
   "execution_count": 16,
   "id": "137ff0b7",
   "metadata": {},
   "outputs": [],
   "source": [
    "lstm_x_train,lstm_y_train = lstm_format(combined_train_scaled_df,36)"
   ]
  },
  {
   "cell_type": "code",
   "execution_count": 17,
   "id": "3c4a63c3",
   "metadata": {},
   "outputs": [
    {
     "name": "stderr",
     "output_type": "stream",
     "text": [
      "2024-11-06 17:19:05.765341: I tensorflow/core/platform/cpu_feature_guard.cc:210] This TensorFlow binary is optimized to use available CPU instructions in performance-critical operations.\n",
      "To enable the following instructions: AVX2 FMA, in other operations, rebuild TensorFlow with the appropriate compiler flags.\n"
     ]
    }
   ],
   "source": [
    "from tensorflow.keras.models import Sequential\n",
    "from tensorflow.keras.layers import GRU, Dense, Dropout\n",
    "from tensorflow.keras.optimizers import Adam"
   ]
  },
  {
   "cell_type": "code",
   "execution_count": 18,
   "id": "d1402e3e",
   "metadata": {},
   "outputs": [],
   "source": [
    "time_steps = 36  # 時間步長\n",
    "num_features = len(combined_train_scaled_df.columns) # 特徵數量"
   ]
  },
  {
   "cell_type": "code",
   "execution_count": 19,
   "id": "92990235",
   "metadata": {},
   "outputs": [],
   "source": [
    "model = Sequential([\n",
    "    GRU(units=64, activation='tanh', input_shape=(time_steps, num_features), return_sequences=False),\n",
    "    Dropout(0.2),\n",
    "    Dense(units=64),\n",
    "    Dense(units=1)  # 最終輸出一個值（例如血糖預測值）\n",
    "])"
   ]
  },
  {
   "cell_type": "code",
   "execution_count": 20,
   "id": "a6e11958",
   "metadata": {},
   "outputs": [
    {
     "data": {
      "text/html": [
       "<pre style=\"white-space:pre;overflow-x:auto;line-height:normal;font-family:Menlo,'DejaVu Sans Mono',consolas,'Courier New',monospace\"><span style=\"font-weight: bold\">Model: \"sequential\"</span>\n",
       "</pre>\n"
      ],
      "text/plain": [
       "\u001b[1mModel: \"sequential\"\u001b[0m\n"
      ]
     },
     "metadata": {},
     "output_type": "display_data"
    },
    {
     "data": {
      "text/html": [
       "<pre style=\"white-space:pre;overflow-x:auto;line-height:normal;font-family:Menlo,'DejaVu Sans Mono',consolas,'Courier New',monospace\">┏━━━━━━━━━━━━━━━━━━━━━━━━━━━━━━━━━┳━━━━━━━━━━━━━━━━━━━━━━━━┳━━━━━━━━━━━━━━━┓\n",
       "┃<span style=\"font-weight: bold\"> Layer (type)                    </span>┃<span style=\"font-weight: bold\"> Output Shape           </span>┃<span style=\"font-weight: bold\">       Param # </span>┃\n",
       "┡━━━━━━━━━━━━━━━━━━━━━━━━━━━━━━━━━╇━━━━━━━━━━━━━━━━━━━━━━━━╇━━━━━━━━━━━━━━━┩\n",
       "│ gru (<span style=\"color: #0087ff; text-decoration-color: #0087ff\">GRU</span>)                       │ (<span style=\"color: #00d7ff; text-decoration-color: #00d7ff\">None</span>, <span style=\"color: #00af00; text-decoration-color: #00af00\">64</span>)             │        <span style=\"color: #00af00; text-decoration-color: #00af00\">13,440</span> │\n",
       "├─────────────────────────────────┼────────────────────────┼───────────────┤\n",
       "│ dropout (<span style=\"color: #0087ff; text-decoration-color: #0087ff\">Dropout</span>)               │ (<span style=\"color: #00d7ff; text-decoration-color: #00d7ff\">None</span>, <span style=\"color: #00af00; text-decoration-color: #00af00\">64</span>)             │             <span style=\"color: #00af00; text-decoration-color: #00af00\">0</span> │\n",
       "├─────────────────────────────────┼────────────────────────┼───────────────┤\n",
       "│ dense (<span style=\"color: #0087ff; text-decoration-color: #0087ff\">Dense</span>)                   │ (<span style=\"color: #00d7ff; text-decoration-color: #00d7ff\">None</span>, <span style=\"color: #00af00; text-decoration-color: #00af00\">64</span>)             │         <span style=\"color: #00af00; text-decoration-color: #00af00\">4,160</span> │\n",
       "├─────────────────────────────────┼────────────────────────┼───────────────┤\n",
       "│ dense_1 (<span style=\"color: #0087ff; text-decoration-color: #0087ff\">Dense</span>)                 │ (<span style=\"color: #00d7ff; text-decoration-color: #00d7ff\">None</span>, <span style=\"color: #00af00; text-decoration-color: #00af00\">1</span>)              │            <span style=\"color: #00af00; text-decoration-color: #00af00\">65</span> │\n",
       "└─────────────────────────────────┴────────────────────────┴───────────────┘\n",
       "</pre>\n"
      ],
      "text/plain": [
       "┏━━━━━━━━━━━━━━━━━━━━━━━━━━━━━━━━━┳━━━━━━━━━━━━━━━━━━━━━━━━┳━━━━━━━━━━━━━━━┓\n",
       "┃\u001b[1m \u001b[0m\u001b[1mLayer (type)                   \u001b[0m\u001b[1m \u001b[0m┃\u001b[1m \u001b[0m\u001b[1mOutput Shape          \u001b[0m\u001b[1m \u001b[0m┃\u001b[1m \u001b[0m\u001b[1m      Param #\u001b[0m\u001b[1m \u001b[0m┃\n",
       "┡━━━━━━━━━━━━━━━━━━━━━━━━━━━━━━━━━╇━━━━━━━━━━━━━━━━━━━━━━━━╇━━━━━━━━━━━━━━━┩\n",
       "│ gru (\u001b[38;5;33mGRU\u001b[0m)                       │ (\u001b[38;5;45mNone\u001b[0m, \u001b[38;5;34m64\u001b[0m)             │        \u001b[38;5;34m13,440\u001b[0m │\n",
       "├─────────────────────────────────┼────────────────────────┼───────────────┤\n",
       "│ dropout (\u001b[38;5;33mDropout\u001b[0m)               │ (\u001b[38;5;45mNone\u001b[0m, \u001b[38;5;34m64\u001b[0m)             │             \u001b[38;5;34m0\u001b[0m │\n",
       "├─────────────────────────────────┼────────────────────────┼───────────────┤\n",
       "│ dense (\u001b[38;5;33mDense\u001b[0m)                   │ (\u001b[38;5;45mNone\u001b[0m, \u001b[38;5;34m64\u001b[0m)             │         \u001b[38;5;34m4,160\u001b[0m │\n",
       "├─────────────────────────────────┼────────────────────────┼───────────────┤\n",
       "│ dense_1 (\u001b[38;5;33mDense\u001b[0m)                 │ (\u001b[38;5;45mNone\u001b[0m, \u001b[38;5;34m1\u001b[0m)              │            \u001b[38;5;34m65\u001b[0m │\n",
       "└─────────────────────────────────┴────────────────────────┴───────────────┘\n"
      ]
     },
     "metadata": {},
     "output_type": "display_data"
    },
    {
     "data": {
      "text/html": [
       "<pre style=\"white-space:pre;overflow-x:auto;line-height:normal;font-family:Menlo,'DejaVu Sans Mono',consolas,'Courier New',monospace\"><span style=\"font-weight: bold\"> Total params: </span><span style=\"color: #00af00; text-decoration-color: #00af00\">17,665</span> (69.00 KB)\n",
       "</pre>\n"
      ],
      "text/plain": [
       "\u001b[1m Total params: \u001b[0m\u001b[38;5;34m17,665\u001b[0m (69.00 KB)\n"
      ]
     },
     "metadata": {},
     "output_type": "display_data"
    },
    {
     "data": {
      "text/html": [
       "<pre style=\"white-space:pre;overflow-x:auto;line-height:normal;font-family:Menlo,'DejaVu Sans Mono',consolas,'Courier New',monospace\"><span style=\"font-weight: bold\"> Trainable params: </span><span style=\"color: #00af00; text-decoration-color: #00af00\">17,665</span> (69.00 KB)\n",
       "</pre>\n"
      ],
      "text/plain": [
       "\u001b[1m Trainable params: \u001b[0m\u001b[38;5;34m17,665\u001b[0m (69.00 KB)\n"
      ]
     },
     "metadata": {},
     "output_type": "display_data"
    },
    {
     "data": {
      "text/html": [
       "<pre style=\"white-space:pre;overflow-x:auto;line-height:normal;font-family:Menlo,'DejaVu Sans Mono',consolas,'Courier New',monospace\"><span style=\"font-weight: bold\"> Non-trainable params: </span><span style=\"color: #00af00; text-decoration-color: #00af00\">0</span> (0.00 B)\n",
       "</pre>\n"
      ],
      "text/plain": [
       "\u001b[1m Non-trainable params: \u001b[0m\u001b[38;5;34m0\u001b[0m (0.00 B)\n"
      ]
     },
     "metadata": {},
     "output_type": "display_data"
    }
   ],
   "source": [
    "model.summary()"
   ]
  },
  {
   "cell_type": "code",
   "execution_count": 21,
   "id": "c88834ff",
   "metadata": {},
   "outputs": [],
   "source": [
    "model.compile(\n",
    "    loss='mean_squared_error',\n",
    "    optimizer=Adam(learning_rate=0.002)\n",
    ")"
   ]
  },
  {
   "cell_type": "code",
   "execution_count": 22,
   "id": "e58c5941",
   "metadata": {},
   "outputs": [
    {
     "name": "stdout",
     "output_type": "stream",
     "text": [
      "Epoch 1/50\n",
      "\u001b[1m10308/10308\u001b[0m \u001b[32m━━━━━━━━━━━━━━━━━━━━\u001b[0m\u001b[37m\u001b[0m \u001b[1m185s\u001b[0m 18ms/step - loss: 7.9928e-04 - val_loss: 2.0089e-04\n",
      "Epoch 2/50\n",
      "\u001b[1m10308/10308\u001b[0m \u001b[32m━━━━━━━━━━━━━━━━━━━━\u001b[0m\u001b[37m\u001b[0m \u001b[1m174s\u001b[0m 17ms/step - loss: 4.5544e-04 - val_loss: 1.8494e-04\n",
      "Epoch 3/50\n",
      "\u001b[1m10308/10308\u001b[0m \u001b[32m━━━━━━━━━━━━━━━━━━━━\u001b[0m\u001b[37m\u001b[0m \u001b[1m161s\u001b[0m 16ms/step - loss: 4.4439e-04 - val_loss: 3.3345e-04\n",
      "Epoch 4/50\n",
      "\u001b[1m10308/10308\u001b[0m \u001b[32m━━━━━━━━━━━━━━━━━━━━\u001b[0m\u001b[37m\u001b[0m \u001b[1m162s\u001b[0m 16ms/step - loss: 4.3289e-04 - val_loss: 1.8689e-04\n",
      "Epoch 5/50\n",
      "\u001b[1m10308/10308\u001b[0m \u001b[32m━━━━━━━━━━━━━━━━━━━━\u001b[0m\u001b[37m\u001b[0m \u001b[1m207s\u001b[0m 20ms/step - loss: 4.2890e-04 - val_loss: 1.9336e-04\n",
      "Epoch 6/50\n",
      "\u001b[1m10308/10308\u001b[0m \u001b[32m━━━━━━━━━━━━━━━━━━━━\u001b[0m\u001b[37m\u001b[0m \u001b[1m183s\u001b[0m 18ms/step - loss: 4.0948e-04 - val_loss: 1.9438e-04\n",
      "Epoch 7/50\n",
      "\u001b[1m10308/10308\u001b[0m \u001b[32m━━━━━━━━━━━━━━━━━━━━\u001b[0m\u001b[37m\u001b[0m \u001b[1m225s\u001b[0m 22ms/step - loss: 4.0046e-04 - val_loss: 2.5985e-04\n",
      "Epoch 8/50\n",
      "\u001b[1m10308/10308\u001b[0m \u001b[32m━━━━━━━━━━━━━━━━━━━━\u001b[0m\u001b[37m\u001b[0m \u001b[1m235s\u001b[0m 23ms/step - loss: 4.0682e-04 - val_loss: 1.9394e-04\n",
      "Epoch 9/50\n",
      "\u001b[1m10308/10308\u001b[0m \u001b[32m━━━━━━━━━━━━━━━━━━━━\u001b[0m\u001b[37m\u001b[0m \u001b[1m235s\u001b[0m 23ms/step - loss: 3.9156e-04 - val_loss: 1.7570e-04\n",
      "Epoch 10/50\n",
      "\u001b[1m10308/10308\u001b[0m \u001b[32m━━━━━━━━━━━━━━━━━━━━\u001b[0m\u001b[37m\u001b[0m \u001b[1m254s\u001b[0m 22ms/step - loss: 3.9630e-04 - val_loss: 2.0273e-04\n",
      "Epoch 11/50\n",
      "\u001b[1m10308/10308\u001b[0m \u001b[32m━━━━━━━━━━━━━━━━━━━━\u001b[0m\u001b[37m\u001b[0m \u001b[1m268s\u001b[0m 23ms/step - loss: 3.8437e-04 - val_loss: 1.7388e-04\n",
      "Epoch 12/50\n",
      "\u001b[1m10308/10308\u001b[0m \u001b[32m━━━━━━━━━━━━━━━━━━━━\u001b[0m\u001b[37m\u001b[0m \u001b[1m225s\u001b[0m 22ms/step - loss: 3.8584e-04 - val_loss: 1.8608e-04\n",
      "Epoch 13/50\n",
      "\u001b[1m10308/10308\u001b[0m \u001b[32m━━━━━━━━━━━━━━━━━━━━\u001b[0m\u001b[37m\u001b[0m \u001b[1m341s\u001b[0m 33ms/step - loss: 3.7073e-04 - val_loss: 2.0725e-04\n",
      "Epoch 14/50\n",
      "\u001b[1m10308/10308\u001b[0m \u001b[32m━━━━━━━━━━━━━━━━━━━━\u001b[0m\u001b[37m\u001b[0m \u001b[1m249s\u001b[0m 24ms/step - loss: 3.8501e-04 - val_loss: 1.7584e-04\n",
      "Epoch 15/50\n",
      "\u001b[1m10308/10308\u001b[0m \u001b[32m━━━━━━━━━━━━━━━━━━━━\u001b[0m\u001b[37m\u001b[0m \u001b[1m306s\u001b[0m 30ms/step - loss: 3.7538e-04 - val_loss: 1.7607e-04\n",
      "Epoch 16/50\n",
      "\u001b[1m10308/10308\u001b[0m \u001b[32m━━━━━━━━━━━━━━━━━━━━\u001b[0m\u001b[37m\u001b[0m \u001b[1m255s\u001b[0m 25ms/step - loss: 0.0049 - val_loss: 9.6350e-04\n",
      "Epoch 17/50\n",
      "\u001b[1m10308/10308\u001b[0m \u001b[32m━━━━━━━━━━━━━━━━━━━━\u001b[0m\u001b[37m\u001b[0m \u001b[1m303s\u001b[0m 29ms/step - loss: 0.0045 - val_loss: 0.0035\n",
      "Epoch 18/50\n",
      "\u001b[1m10308/10308\u001b[0m \u001b[32m━━━━━━━━━━━━━━━━━━━━\u001b[0m\u001b[37m\u001b[0m \u001b[1m246s\u001b[0m 24ms/step - loss: 0.0063 - val_loss: 6.2205e-04\n",
      "Epoch 19/50\n",
      "\u001b[1m10308/10308\u001b[0m \u001b[32m━━━━━━━━━━━━━━━━━━━━\u001b[0m\u001b[37m\u001b[0m \u001b[1m182s\u001b[0m 18ms/step - loss: 0.0022 - val_loss: 0.0024\n",
      "Epoch 20/50\n",
      "\u001b[1m10308/10308\u001b[0m \u001b[32m━━━━━━━━━━━━━━━━━━━━\u001b[0m\u001b[37m\u001b[0m \u001b[1m165s\u001b[0m 16ms/step - loss: 0.0040 - val_loss: 0.0018\n",
      "Epoch 21/50\n",
      "\u001b[1m10308/10308\u001b[0m \u001b[32m━━━━━━━━━━━━━━━━━━━━\u001b[0m\u001b[37m\u001b[0m \u001b[1m195s\u001b[0m 19ms/step - loss: 0.0027 - val_loss: 7.0769e-04\n",
      "Epoch 22/50\n",
      "\u001b[1m10308/10308\u001b[0m \u001b[32m━━━━━━━━━━━━━━━━━━━━\u001b[0m\u001b[37m\u001b[0m \u001b[1m190s\u001b[0m 18ms/step - loss: 0.0013 - val_loss: 2.8979e-04\n",
      "Epoch 23/50\n",
      "\u001b[1m10308/10308\u001b[0m \u001b[32m━━━━━━━━━━━━━━━━━━━━\u001b[0m\u001b[37m\u001b[0m \u001b[1m188s\u001b[0m 18ms/step - loss: 6.5814e-04 - val_loss: 2.1325e-04\n",
      "Epoch 24/50\n",
      "\u001b[1m10308/10308\u001b[0m \u001b[32m━━━━━━━━━━━━━━━━━━━━\u001b[0m\u001b[37m\u001b[0m \u001b[1m206s\u001b[0m 19ms/step - loss: 7.8457e-04 - val_loss: 2.0231e-04\n",
      "Epoch 25/50\n",
      "\u001b[1m10308/10308\u001b[0m \u001b[32m━━━━━━━━━━━━━━━━━━━━\u001b[0m\u001b[37m\u001b[0m \u001b[1m175s\u001b[0m 17ms/step - loss: 0.0011 - val_loss: 8.7488e-04\n",
      "Epoch 26/50\n",
      "\u001b[1m10308/10308\u001b[0m \u001b[32m━━━━━━━━━━━━━━━━━━━━\u001b[0m\u001b[37m\u001b[0m \u001b[1m149s\u001b[0m 14ms/step - loss: 0.0021 - val_loss: 5.4410e-04\n",
      "Epoch 27/50\n",
      "\u001b[1m10308/10308\u001b[0m \u001b[32m━━━━━━━━━━━━━━━━━━━━\u001b[0m\u001b[37m\u001b[0m \u001b[1m149s\u001b[0m 14ms/step - loss: 0.0013 - val_loss: 3.4662e-04\n",
      "Epoch 28/50\n",
      "\u001b[1m10308/10308\u001b[0m \u001b[32m━━━━━━━━━━━━━━━━━━━━\u001b[0m\u001b[37m\u001b[0m \u001b[1m195s\u001b[0m 19ms/step - loss: 0.0013 - val_loss: 5.4511e-04\n",
      "Epoch 29/50\n",
      "\u001b[1m10308/10308\u001b[0m \u001b[32m━━━━━━━━━━━━━━━━━━━━\u001b[0m\u001b[37m\u001b[0m \u001b[1m143s\u001b[0m 14ms/step - loss: 0.0012 - val_loss: 3.1116e-04\n",
      "Epoch 30/50\n",
      "\u001b[1m10308/10308\u001b[0m \u001b[32m━━━━━━━━━━━━━━━━━━━━\u001b[0m\u001b[37m\u001b[0m \u001b[1m143s\u001b[0m 14ms/step - loss: 6.9781e-04 - val_loss: 2.8237e-04\n",
      "Epoch 31/50\n",
      "\u001b[1m10308/10308\u001b[0m \u001b[32m━━━━━━━━━━━━━━━━━━━━\u001b[0m\u001b[37m\u001b[0m \u001b[1m142s\u001b[0m 14ms/step - loss: 6.1661e-04 - val_loss: 4.8341e-04\n",
      "Epoch 32/50\n",
      "\u001b[1m10308/10308\u001b[0m \u001b[32m━━━━━━━━━━━━━━━━━━━━\u001b[0m\u001b[37m\u001b[0m \u001b[1m142s\u001b[0m 14ms/step - loss: 8.6720e-04 - val_loss: 2.4980e-04\n",
      "Epoch 33/50\n",
      "\u001b[1m10308/10308\u001b[0m \u001b[32m━━━━━━━━━━━━━━━━━━━━\u001b[0m\u001b[37m\u001b[0m \u001b[1m141s\u001b[0m 14ms/step - loss: 9.2127e-04 - val_loss: 4.3366e-04\n",
      "Epoch 34/50\n",
      "\u001b[1m10308/10308\u001b[0m \u001b[32m━━━━━━━━━━━━━━━━━━━━\u001b[0m\u001b[37m\u001b[0m \u001b[1m141s\u001b[0m 14ms/step - loss: 8.7667e-04 - val_loss: 2.5069e-04\n",
      "Epoch 35/50\n",
      "\u001b[1m10308/10308\u001b[0m \u001b[32m━━━━━━━━━━━━━━━━━━━━\u001b[0m\u001b[37m\u001b[0m \u001b[1m215s\u001b[0m 21ms/step - loss: 0.0010 - val_loss: 4.3297e-04\n",
      "Epoch 36/50\n",
      "\u001b[1m10308/10308\u001b[0m \u001b[32m━━━━━━━━━━━━━━━━━━━━\u001b[0m\u001b[37m\u001b[0m \u001b[1m212s\u001b[0m 21ms/step - loss: 0.0011 - val_loss: 0.0015\n",
      "Epoch 37/50\n",
      "\u001b[1m10308/10308\u001b[0m \u001b[32m━━━━━━━━━━━━━━━━━━━━\u001b[0m\u001b[37m\u001b[0m \u001b[1m206s\u001b[0m 20ms/step - loss: 0.0013 - val_loss: 2.9509e-04\n",
      "Epoch 38/50\n",
      "\u001b[1m10308/10308\u001b[0m \u001b[32m━━━━━━━━━━━━━━━━━━━━\u001b[0m\u001b[37m\u001b[0m \u001b[1m218s\u001b[0m 21ms/step - loss: 0.0011 - val_loss: 2.9842e-04\n",
      "Epoch 39/50\n",
      "\u001b[1m10308/10308\u001b[0m \u001b[32m━━━━━━━━━━━━━━━━━━━━\u001b[0m\u001b[37m\u001b[0m \u001b[1m298s\u001b[0m 29ms/step - loss: 9.6792e-04 - val_loss: 6.1746e-04\n",
      "Epoch 40/50\n",
      "\u001b[1m10308/10308\u001b[0m \u001b[32m━━━━━━━━━━━━━━━━━━━━\u001b[0m\u001b[37m\u001b[0m \u001b[1m325s\u001b[0m 32ms/step - loss: 7.6850e-04 - val_loss: 3.3435e-04\n",
      "Epoch 41/50\n",
      "\u001b[1m10308/10308\u001b[0m \u001b[32m━━━━━━━━━━━━━━━━━━━━\u001b[0m\u001b[37m\u001b[0m \u001b[1m487s\u001b[0m 42ms/step - loss: 6.6579e-04 - val_loss: 1.9792e-04\n",
      "Epoch 42/50\n",
      "\u001b[1m10308/10308\u001b[0m \u001b[32m━━━━━━━━━━━━━━━━━━━━\u001b[0m\u001b[37m\u001b[0m \u001b[1m144s\u001b[0m 14ms/step - loss: 5.5597e-04 - val_loss: 1.9040e-04\n",
      "Epoch 43/50\n",
      "\u001b[1m10308/10308\u001b[0m \u001b[32m━━━━━━━━━━━━━━━━━━━━\u001b[0m\u001b[37m\u001b[0m \u001b[1m153s\u001b[0m 15ms/step - loss: 5.3370e-04 - val_loss: 1.9741e-04\n",
      "Epoch 44/50\n",
      "\u001b[1m10308/10308\u001b[0m \u001b[32m━━━━━━━━━━━━━━━━━━━━\u001b[0m\u001b[37m\u001b[0m \u001b[1m187s\u001b[0m 18ms/step - loss: 5.7641e-04 - val_loss: 2.5469e-04\n",
      "Epoch 45/50\n",
      "\u001b[1m10308/10308\u001b[0m \u001b[32m━━━━━━━━━━━━━━━━━━━━\u001b[0m\u001b[37m\u001b[0m \u001b[1m166s\u001b[0m 16ms/step - loss: 6.8945e-04 - val_loss: 2.6603e-04\n",
      "Epoch 46/50\n",
      "\u001b[1m10308/10308\u001b[0m \u001b[32m━━━━━━━━━━━━━━━━━━━━\u001b[0m\u001b[37m\u001b[0m \u001b[1m155s\u001b[0m 15ms/step - loss: 6.4107e-04 - val_loss: 3.1683e-04\n",
      "Epoch 47/50\n",
      "\u001b[1m10308/10308\u001b[0m \u001b[32m━━━━━━━━━━━━━━━━━━━━\u001b[0m\u001b[37m\u001b[0m \u001b[1m155s\u001b[0m 15ms/step - loss: 9.4058e-04 - val_loss: 4.3006e-04\n",
      "Epoch 48/50\n",
      "\u001b[1m10308/10308\u001b[0m \u001b[32m━━━━━━━━━━━━━━━━━━━━\u001b[0m\u001b[37m\u001b[0m \u001b[1m152s\u001b[0m 15ms/step - loss: 9.1872e-04 - val_loss: 3.8898e-04\n",
      "Epoch 49/50\n",
      "\u001b[1m10308/10308\u001b[0m \u001b[32m━━━━━━━━━━━━━━━━━━━━\u001b[0m\u001b[37m\u001b[0m \u001b[1m156s\u001b[0m 15ms/step - loss: 7.9262e-04 - val_loss: 2.8806e-04\n",
      "Epoch 50/50\n",
      "\u001b[1m10308/10308\u001b[0m \u001b[32m━━━━━━━━━━━━━━━━━━━━\u001b[0m\u001b[37m\u001b[0m \u001b[1m153s\u001b[0m 15ms/step - loss: 9.1829e-04 - val_loss: 3.6568e-04\n"
     ]
    }
   ],
   "source": [
    "history = model.fit(\n",
    "    x=lstm_x_train,  # 輸入的訓練數據（形狀為 [samples, time_steps, num_features]）\n",
    "    y=lstm_y_train,   # 預測目標（例如 1 小時後的血糖值）\n",
    "    epochs=50,         # 訓練迭代次數\n",
    "    batch_size=32,\n",
    "    validation_split=0.2\n",
    ")"
   ]
  },
  {
   "cell_type": "code",
   "execution_count": 23,
   "id": "bec837d6",
   "metadata": {},
   "outputs": [],
   "source": [
    "for key, df in test_dict_pre.items():\n",
    "    clean_key = key.replace(\"_test\",\"\")\n",
    "    df['p_num'] = clean_key\n",
    "## test ##\n",
    "combined_test = pd.concat(test_dict_pre.values(), ignore_index=True)\n",
    "combined_no_pnum = combined_test.drop(columns = ['p_num'])\n",
    "combined_test_scaled = scaler.transform(combined_no_pnum)\n",
    "combined_test_scaled_df = pd.DataFrame(combined_test_scaled, columns=combined_no_pnum.columns)"
   ]
  },
  {
   "cell_type": "code",
   "execution_count": 24,
   "id": "59eaedfe",
   "metadata": {},
   "outputs": [],
   "source": [
    "lstm_x_test,lstm_y_test = lstm_format(combined_test_scaled_df,36)"
   ]
  },
  {
   "cell_type": "code",
   "execution_count": 25,
   "id": "809682aa",
   "metadata": {},
   "outputs": [
    {
     "name": "stdout",
     "output_type": "stream",
     "text": [
      "\u001b[1m16514/16514\u001b[0m \u001b[32m━━━━━━━━━━━━━━━━━━━━\u001b[0m\u001b[37m\u001b[0m \u001b[1m78s\u001b[0m 5ms/step\n"
     ]
    }
   ],
   "source": [
    "predicted_y = model.predict(lstm_x_test)"
   ]
  },
  {
   "cell_type": "code",
   "execution_count": 26,
   "id": "1bf5edbc",
   "metadata": {},
   "outputs": [],
   "source": [
    "# 反標準化 combined_test_scaled\n",
    "predicted_inverse = predicted_y*(scaler.data_max_[0] - scaler.data_min_[0])+scaler.data_min_[0]\n",
    "predicted_inverse1 = np.concatenate((np.full((36, 1), np.nan), predicted_inverse), axis=0)\n",
    "predicted_inverse_df = pd.DataFrame(predicted_inverse1, columns=['predicted'])"
   ]
  },
  {
   "cell_type": "code",
   "execution_count": 27,
   "id": "2c90711a",
   "metadata": {},
   "outputs": [
    {
     "name": "stdout",
     "output_type": "stream",
     "text": [
      "combined test 528480\n",
      "predicted_y 528444\n"
     ]
    }
   ],
   "source": [
    "print(\"combined test\",len(combined_test_scaled_df))\n",
    "print(\"predicted_y\",len(predicted_y))\n"
   ]
  },
  {
   "cell_type": "code",
   "execution_count": 28,
   "id": "c354fd9e",
   "metadata": {},
   "outputs": [],
   "source": [
    "test_predicted = {}\n",
    "test_outcome = {}\n",
    "for key,test_dict in reshaped_test_dict.items():\n",
    "    if 'test' in test_dict:\n",
    "        df = test_dict['test']\n",
    "        df = df.drop(columns = ['carbs_value','step_value','activity_value'])\n",
    "        clean_key = key.replace(\"_test\",\"\")\n",
    "        df['p_num'] = clean_key\n",
    "        test_predicted[key] = df\n",
    "    if 'output' in test_dict:\n",
    "        temp = test_dict['output']\n",
    "        temp1 = temp.rename(columns = {\n",
    "            'time_pre_outcome' : 'time_seq',\n",
    "            'day_outcome' :'day'\n",
    "            })\n",
    "        clean_key = key.replace(\"_test\",\"\")\n",
    "        temp1['p_num'] = clean_key\n",
    "        test_outcome[key] = temp1"
   ]
  },
  {
   "cell_type": "code",
   "execution_count": 29,
   "id": "ea733336",
   "metadata": {},
   "outputs": [],
   "source": [
    "test_predict_df = pd.concat(test_predicted.values(), ignore_index=True)\n",
    "test_predict_df1 = pd.concat([test_predict_df,predicted_inverse_df],axis = 1)\n",
    "test_outcome_df = pd.concat(test_outcome.values())"
   ]
  },
  {
   "cell_type": "code",
   "execution_count": 33,
   "id": "08800f6d",
   "metadata": {},
   "outputs": [],
   "source": [
    "test_predict_df1[['day']] = test_predict_df1[['day']].astype(int).astype('object')\n",
    "test_predict_df1[['time_seq']] = test_predict_df1[['time_seq']].astype('object')\n",
    "test_outcome_df['time_seq'] = test_outcome_df['time_seq'].astype(str).str.split(' ').str[-1]\n",
    "test_outcome_df[['day', 'time_seq']] = test_outcome_df[['day', 'time_seq']].astype('object')\n",
    "test_final = pd.merge(test_predict_df1,test_outcome_df, on = ['day', 'time_seq','p_num'],how = 'inner')"
   ]
  },
  {
   "cell_type": "code",
   "execution_count": 34,
   "id": "20c4c9a8",
   "metadata": {},
   "outputs": [],
   "source": [
    "test_final1 = test_final[['id','predicted']].rename(columns = {\n",
    "    'predicted' : 'bg+1:00'\n",
    "})\n",
    "test_final1.to_csv(f\"{path}/submission.csv\", index=False)"
   ]
  },
  {
   "cell_type": "code",
   "execution_count": null,
   "id": "2575bc2a",
   "metadata": {},
   "outputs": [],
   "source": []
  },
  {
   "cell_type": "code",
   "execution_count": null,
   "id": "9403d7dd",
   "metadata": {},
   "outputs": [],
   "source": []
  },
  {
   "cell_type": "code",
   "execution_count": null,
   "id": "f94bbfe9",
   "metadata": {},
   "outputs": [],
   "source": []
  },
  {
   "cell_type": "code",
   "execution_count": null,
   "id": "43365694",
   "metadata": {},
   "outputs": [],
   "source": []
  }
 ],
 "metadata": {
  "kernelspec": {
   "display_name": "Python (Peggy)",
   "language": "python",
   "name": "peggy"
  },
  "language_info": {
   "codemirror_mode": {
    "name": "ipython",
    "version": 3
   },
   "file_extension": ".py",
   "mimetype": "text/x-python",
   "name": "python",
   "nbconvert_exporter": "python",
   "pygments_lexer": "ipython3",
   "version": "3.12.1"
  }
 },
 "nbformat": 4,
 "nbformat_minor": 5
}
