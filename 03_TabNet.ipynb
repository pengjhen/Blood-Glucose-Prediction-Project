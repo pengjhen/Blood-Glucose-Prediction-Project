{
 "cells": [
  {
   "cell_type": "code",
   "execution_count": 2,
   "id": "b3dbcd4b",
   "metadata": {},
   "outputs": [
    {
     "name": "stderr",
     "output_type": "stream",
     "text": [
      "/Users/peggylee/anaconda3/envs/Peggy/lib/python3.12/site-packages/threadpoolctl.py:1186: RuntimeWarning: \n",
      "Found Intel OpenMP ('libiomp') and LLVM OpenMP ('libomp') loaded at\n",
      "the same time. Both libraries are known to be incompatible and this\n",
      "can cause random crashes or deadlocks on Linux when loaded in the\n",
      "same Python program.\n",
      "Using threadpoolctl may cause crashes or deadlocks. For more\n",
      "information and possible workarounds, please see\n",
      "    https://github.com/joblib/threadpoolctl/blob/master/multiple_openmp.md\n",
      "\n",
      "  warnings.warn(msg, RuntimeWarning)\n"
     ]
    }
   ],
   "source": [
    "from pytorch_tabnet.tab_model import TabNetRegressor"
   ]
  },
  {
   "cell_type": "code",
   "execution_count": 3,
   "id": "eb804bee",
   "metadata": {},
   "outputs": [],
   "source": [
    "from tqdm import tqdm\n",
    "from itertools import product\n",
    "\n",
    "import numpy as np\n",
    "import pandas as pd\n",
    "\n",
    "import matplotlib.pyplot as plt\n",
    "import seaborn as sns\n",
    "\n",
    "from sklearn.model_selection import GroupKFold\n",
    "from sklearn.impute import SimpleImputer\n",
    "\n",
    "import warnings\n",
    "warnings.filterwarnings(\"ignore\")"
   ]
  },
  {
   "cell_type": "code",
   "execution_count": 78,
   "id": "cae2124d",
   "metadata": {},
   "outputs": [],
   "source": [
    "# Define the hour and minute ranges for constructing feature column names\n",
    "hours = range(0, 6, 1)\n",
    "minutes = range(0, 60, 5)\n",
    "\n",
    "target_col = 'bg+1-00' # Target column name for prediction\n",
    "group_col = 'p_num'    # Column name for grouping (e.g., participant number)\n",
    "\n",
    "# We only need the last 12 time intervals (1 hour)\n",
    "bg_cols   = [f'bg-{i}-{j:02d}' for i, j in product(hours, minutes)][:12]\n",
    "insu_cols = [f'insulin-{i}-{j:02d}' for i, j in product(hours, minutes)][:12]\n",
    "carb_cols = [f'carbs-{i}-{j:02d}' for i, j in product(hours, minutes)][:12]\n",
    "hr_cols   = [f'hr-{i}-{j:02d}' for i, j in product(hours, minutes)][:12]\n",
    "step_cols = [f'steps-{i}-{j:02d}' for i, j in product(hours, minutes)][:12]\n",
    "cals_cols = [f'cals-{i}-{j:02d}' for i, j in product(hours, minutes)][:12]\n",
    "\n",
    "feature_cols = bg_cols + insu_cols + carb_cols + hr_cols + step_cols + cals_cols"
   ]
  },
  {
   "cell_type": "code",
   "execution_count": 83,
   "id": "32dfbdf4",
   "metadata": {},
   "outputs": [],
   "source": [
    "path = '/Users/peggylee/Desktop/python/Kaggle_comptete/02_Data'\n",
    "df_train = pd.read_csv(f\"{path}/original_data/train.csv\")\n",
    "df_test = pd.read_csv(f\"{path}/original_data/test.csv\")\n",
    "df_subm = pd.read_csv(f\"{path}/original_data/sample_submission.csv\")\n",
    "# Some frameworks may not handle column names with special characters like colons properly\n",
    "df_train.columns = df_train.columns.str.replace(':', '-')\n",
    "df_test.columns = df_test.columns.str.replace(':', '-')"
   ]
  },
  {
   "cell_type": "code",
   "execution_count": 37,
   "id": "98a1f110",
   "metadata": {},
   "outputs": [
    {
     "data": {
      "text/plain": [
       "0        NaN\n",
       "1        NaN\n",
       "2        NaN\n",
       "3        NaN\n",
       "4        NaN\n",
       "          ..\n",
       "177019   NaN\n",
       "177020   NaN\n",
       "177021   NaN\n",
       "177022   NaN\n",
       "177023   NaN\n",
       "Name: carbs-1-00, Length: 177024, dtype: float64"
      ]
     },
     "execution_count": 37,
     "metadata": {},
     "output_type": "execute_result"
    }
   ],
   "source": [
    "df_train[\"carbs-1-00\"]"
   ]
  },
  {
   "cell_type": "markdown",
   "id": "ce3eb526",
   "metadata": {},
   "source": [
    "## Data Pre Processing"
   ]
  },
  {
   "cell_type": "code",
   "execution_count": 102,
   "id": "eeffa770",
   "metadata": {},
   "outputs": [],
   "source": [
    "class DataTransform:\n",
    "    \"\"\"\n",
    "    1. drop activity columns that missing rate were high\n",
    "    2. transform time format(hour, minute) by using sin/cos \n",
    "    3. impute data by back/forward as this was a time-series data\n",
    "    4. only keep last 12 time intervals, others would compute their mean and standard deviation\n",
    "    \n",
    "    \"\"\"\n",
    "    def  __init__(self, train, test):\n",
    "        self.train = train\n",
    "        self.test = test\n",
    "        \n",
    "    def dropcolumn(self,df):\n",
    "        drop_activity = df.columns[df.columns.str.startswith('activity-')]\n",
    "        df_drop = df.drop(columns = drop_activity)\n",
    "        \n",
    "        return df_drop\n",
    "    \n",
    "    def create_time(self, df):\n",
    "        df['hr'] = pd.to_datetime(df['time'],format = '%H:%M:%S').dt.hour\n",
    "        df['min'] = pd.to_datetime(df['time'],format = '%H:%M:%S').dt.minute\n",
    "        #df['sc'] = pd.to_datetime(df['time'],format = '%H:%M:%S').dt.second\n",
    "        df['hour_sin'] = np.sin(2 * np.pi * df['hr'] / 12)\n",
    "        df['hour_cos'] = np.cos(2 * np.pi * df['hr'] / 12)\n",
    "        df['min_sin'] = np.sin(2 * np.pi * df['min'] / 60)\n",
    "        df['min_cos'] = np.cos(2 * np.pi * df['min'] / 60)\n",
    "        df = df.drop(columns = ['hr','min'])\n",
    "\n",
    "        return df\n",
    "    def impute(self,df):\n",
    "        bg_impute = df[df.columns[df.columns.str.startswith('bg-')]]\n",
    "        bg_impute = bg_impute.T.fillna(method = 'ffill',axis = 0).fillna(method='bfill', axis=0).T\n",
    "        insu_impute = df[df.columns[df.columns.str.startswith('insulin-')]]\n",
    "        insu_impute = insu_impute.T.fillna(method = 'ffill',axis = 0).fillna(method='bfill', axis=0).T\n",
    "        insu_impute = insu_impute.fillna(method = 'bfill',axis = 0).fillna(method = 'ffill',axis = 0)\n",
    "        cals_impute = df[df.columns[df.columns.str.startswith('cals-')]]\n",
    "        cals_impute = cals_impute.T.fillna(method = 'ffill',axis = 0).fillna(method='bfill', axis=0).T\n",
    "        cals_impute = cals_impute.fillna(method = 'bfill',axis = 0).fillna(method = 'ffill',axis = 0)\n",
    "        hr_impute = df[df.columns[df.columns.str.startswith('hr-')]]\n",
    "        hr_impute = hr_impute.T.fillna(method = 'ffill',axis = 0).fillna(method='bfill', axis=0).T\n",
    "        hr_impute = hr_impute.fillna(method = 'bfill',axis = 0).fillna(method = 'ffill',axis = 0)\n",
    "        steps_impute = df[df.columns[df.columns.str.startswith('steps-')]]\n",
    "        steps_impute = steps_impute.T.fillna(method = 'ffill',axis = 0).fillna(method='bfill', axis=0).T\n",
    "        steps_impute = steps_impute.fillna(method = 'bfill',axis = 0).fillna(method = 'ffill',axis = 0)\n",
    "        carbs_impute = df[df.columns[df.columns.str.startswith('carbs-')]]\n",
    "        carbs_impute = carbs_impute.T.fillna(method = 'ffill',axis = 0).fillna(method='bfill', axis=0).T\n",
    "        carbs_impute = carbs_impute.fillna(method = 'bfill',axis = 0).fillna(method = 'ffill',axis = 0)\n",
    "        \n",
    "        impute_final = pd.concat([bg_impute,insu_impute,cals_impute,hr_impute,steps_impute,carbs_impute],axis = 1)\n",
    "        return impute_final\n",
    "    \n",
    "    def mean_sd(self, df):\n",
    "        for k in [2,3,4,5,6]:\n",
    "            bg_cols   = [f'bg-{i}-{j:02d}' for i, j in product(hours, minutes)][12*(k-1):12*k]\n",
    "            insu_cols = [f'insulin-{i}-{j:02d}' for i, j in product(hours, minutes)][12*(k-1):12*k]\n",
    "            carb_cols = [f'carbs-{i}-{j:02d}' for i, j in product(hours, minutes)][12*(k-1):12*k]\n",
    "            hr_cols   = [f'hr-{i}-{j:02d}' for i, j in product(hours, minutes)][12*(k-1):12*k]\n",
    "            step_cols = [f'steps-{i}-{j:02d}' for i, j in product(hours, minutes)][12*(k-1):12*k]\n",
    "            cals_cols = [f'cals-{i}-{j:02d}' for i, j in product(hours, minutes)][12*(k-1):12*k]\n",
    "            df[f'bg-last{k}-hour-mean'] = df[bg_cols].mean(axis=1)\n",
    "            df[f'bg-last{k}-hour-sd'] = df[bg_cols].std(axis=1)\n",
    "            df[f'insu-last{k}-hour-mean'] = df[insu_cols].mean(axis=1)\n",
    "            df[f'insu-last{k}-hour-sd'] = df[insu_cols].std(axis=1)\n",
    "            df[f'carbs-last{k}-hour-mean'] = df[carb_cols].mean(axis=1)\n",
    "            df[f'carbs-last{k}-hour-sd'] = df[carb_cols].std(axis=1)\n",
    "            df[f'hr-last{k}-hour-mean'] = df[hr_cols].mean(axis=1)\n",
    "            df[f'hr-last{k}-hour-sd'] = df[hr_cols].std(axis=1)\n",
    "            df[f'step-last{k}-hour-mean'] = df[step_cols].mean(axis=1)\n",
    "            df[f'step-last{k}-hour-sd'] = df[step_cols].std(axis=1)\n",
    "            df[f'cals-last{k}-hour-mean'] = df[cals_cols].mean(axis=1)\n",
    "            df[f'cals-last{k}-hour-sd'] = df[cals_cols].std(axis=1)\n",
    "            df = df.drop(columns = bg_cols)\n",
    "            df = df.drop(columns = insu_cols)\n",
    "            df = df.drop(columns = carb_cols)\n",
    "            df = df.drop(columns = hr_cols)\n",
    "            df = df.drop(columns = step_cols)\n",
    "            df = df.drop(columns = cals_cols)\n",
    "        return df\n",
    "            \n",
    "            \n",
    "        \n",
    "    def final(self,df,type_data):\n",
    "        drop_df = self.dropcolumn(df)\n",
    "        time_new_df = self.create_time(drop_df)\n",
    "        impute_df = self.impute(time_new_df)\n",
    "        time_df = time_new_df[['hour_sin','hour_cos','min_sin','min_cos']]\n",
    "        time_df1 = pd.concat([impute_df,time_df],axis = 1)\n",
    "        final_pre = self.mean_sd(time_df1)\n",
    "        final_pre = pd.concat([final_pre,df[['p_num']]],axis = 1)\n",
    "        if type_data == 'train':\n",
    "            outcome_df = df[['bg+1-00']]\n",
    "            final = pd.concat([final_pre,outcome_df],axis = 1)\n",
    "            return final \n",
    "        else:\n",
    "            return final_pre"
   ]
  },
  {
   "cell_type": "code",
   "execution_count": 104,
   "id": "dbb14e60",
   "metadata": {},
   "outputs": [],
   "source": [
    "transformer = DataTransform(df_train, df_test)\n",
    "train_impute = transformer.final(df_train,\"train\")\n",
    "test_impute = transformer.final(df_test,\"test\")"
   ]
  },
  {
   "cell_type": "code",
   "execution_count": 108,
   "id": "e61195f3",
   "metadata": {},
   "outputs": [
    {
     "data": {
      "text/plain": [
       "0"
      ]
     },
     "execution_count": 108,
     "metadata": {},
     "output_type": "execute_result"
    }
   ],
   "source": [
    "train_impute.isna().sum().sum()"
   ]
  },
  {
   "cell_type": "markdown",
   "id": "ee085d81",
   "metadata": {},
   "source": [
    "## TabNet setting "
   ]
  },
  {
   "cell_type": "code",
   "execution_count": 109,
   "id": "97d9ab4f",
   "metadata": {},
   "outputs": [],
   "source": [
    "grouped_features = []\n",
    "\n",
    "# Iterate through each set of related columns (e.g., blood glucose, insulin, etc.)\n",
    "for colset in [bg_cols, insu_cols, carb_cols, hr_cols, step_cols, cals_cols]:\n",
    "    group_idxs = [idx for idx, col in enumerate(feature_cols) if col in colset]\n",
    "    grouped_features.append(group_idxs)"
   ]
  },
  {
   "cell_type": "code",
   "execution_count": 110,
   "id": "6cb31cf1",
   "metadata": {},
   "outputs": [],
   "source": [
    "drop_col = ['p_num','bg+1-00']\n",
    "X = train_impute.drop(columns = drop_col)\n",
    "y = train_impute[['bg+1-00']]\n",
    "groups = train_impute['p_num']\n",
    "cv = GroupKFold(5)\n",
    "df_subm['bg+1:00'] = 0.0\n",
    "test_impute = test_impute.drop(columns = 'p_num')"
   ]
  },
  {
   "cell_type": "code",
   "execution_count": 111,
   "id": "4a34f114",
   "metadata": {},
   "outputs": [
    {
     "name": "stdout",
     "output_type": "stream",
     "text": [
      "epoch 0  | loss: 10.54235| val_0_rmse: 2.89285 |  0:00:23s\n",
      "epoch 1  | loss: 4.15723 | val_0_rmse: 2.23656 |  0:00:40s\n",
      "epoch 2  | loss: 4.07299 | val_0_rmse: 2.28291 |  0:00:55s\n",
      "epoch 3  | loss: 4.02138 | val_0_rmse: 2.25793 |  0:01:09s\n",
      "epoch 4  | loss: 3.95712 | val_0_rmse: 2.21673 |  0:01:23s\n",
      "epoch 5  | loss: 3.8998  | val_0_rmse: 2.2149  |  0:01:37s\n",
      "epoch 6  | loss: 3.90399 | val_0_rmse: 2.25888 |  0:01:51s\n",
      "epoch 7  | loss: 3.92931 | val_0_rmse: 2.21985 |  0:02:05s\n",
      "epoch 8  | loss: 3.82449 | val_0_rmse: 2.23294 |  0:02:18s\n",
      "epoch 9  | loss: 3.80393 | val_0_rmse: 2.20372 |  0:02:33s\n",
      "epoch 10 | loss: 3.76966 | val_0_rmse: 2.32585 |  0:02:46s\n",
      "epoch 11 | loss: 3.87486 | val_0_rmse: 2.22671 |  0:02:58s\n",
      "epoch 12 | loss: 3.82017 | val_0_rmse: 2.24371 |  0:03:11s\n",
      "epoch 13 | loss: 3.79935 | val_0_rmse: 2.22964 |  0:03:23s\n",
      "epoch 14 | loss: 3.82727 | val_0_rmse: 2.30553 |  0:03:40s\n",
      "epoch 15 | loss: 3.77667 | val_0_rmse: 2.28055 |  0:03:56s\n",
      "epoch 16 | loss: 3.77028 | val_0_rmse: 2.21557 |  0:04:12s\n",
      "epoch 17 | loss: 3.72984 | val_0_rmse: 2.2578  |  0:04:20s\n",
      "epoch 18 | loss: 3.68063 | val_0_rmse: 2.2311  |  0:04:28s\n",
      "epoch 19 | loss: 3.7509  | val_0_rmse: 2.26153 |  0:04:41s\n",
      "\n",
      "Early stopping occurred at epoch 19 with best_epoch = 9 and best_val_0_rmse = 2.20372\n",
      "epoch 0  | loss: 10.87417| val_0_rmse: 2.88801 |  0:00:10s\n",
      "epoch 1  | loss: 4.28446 | val_0_rmse: 2.21622 |  0:00:29s\n",
      "epoch 2  | loss: 4.11008 | val_0_rmse: 2.20713 |  0:00:49s\n",
      "epoch 3  | loss: 4.06315 | val_0_rmse: 2.27418 |  0:01:05s\n",
      "epoch 4  | loss: 4.05855 | val_0_rmse: 2.20243 |  0:01:17s\n",
      "epoch 5  | loss: 4.04891 | val_0_rmse: 2.19755 |  0:01:27s\n",
      "epoch 6  | loss: 3.94356 | val_0_rmse: 2.18681 |  0:01:37s\n",
      "epoch 7  | loss: 3.93044 | val_0_rmse: 2.208   |  0:01:48s\n",
      "epoch 8  | loss: 3.90309 | val_0_rmse: 2.19694 |  0:02:01s\n",
      "epoch 9  | loss: 3.88805 | val_0_rmse: 2.2427  |  0:02:14s\n",
      "epoch 10 | loss: 3.84723 | val_0_rmse: 2.20265 |  0:02:25s\n",
      "epoch 11 | loss: 3.87166 | val_0_rmse: 2.25283 |  0:02:33s\n",
      "epoch 12 | loss: 3.81163 | val_0_rmse: 2.1692  |  0:02:41s\n",
      "epoch 13 | loss: 3.79239 | val_0_rmse: 2.21986 |  0:02:49s\n",
      "epoch 14 | loss: 3.72961 | val_0_rmse: 2.2263  |  0:02:58s\n",
      "epoch 15 | loss: 3.7176  | val_0_rmse: 2.22406 |  0:03:05s\n",
      "epoch 16 | loss: 3.70759 | val_0_rmse: 2.25466 |  0:03:14s\n",
      "epoch 17 | loss: 3.67932 | val_0_rmse: 2.18135 |  0:03:22s\n",
      "epoch 18 | loss: 3.64944 | val_0_rmse: 2.22179 |  0:03:30s\n",
      "epoch 19 | loss: 3.61232 | val_0_rmse: 2.25821 |  0:03:38s\n",
      "epoch 20 | loss: 3.58745 | val_0_rmse: 2.28884 |  0:03:46s\n",
      "epoch 21 | loss: 3.54783 | val_0_rmse: 2.25358 |  0:03:54s\n",
      "epoch 22 | loss: 3.52436 | val_0_rmse: 2.27528 |  0:04:02s\n",
      "\n",
      "Early stopping occurred at epoch 22 with best_epoch = 12 and best_val_0_rmse = 2.1692\n",
      "epoch 0  | loss: 12.69966| val_0_rmse: 2.72928 |  0:00:08s\n",
      "epoch 1  | loss: 4.88154 | val_0_rmse: 2.05015 |  0:00:16s\n",
      "epoch 2  | loss: 4.4776  | val_0_rmse: 1.78558 |  0:00:24s\n",
      "epoch 3  | loss: 4.34297 | val_0_rmse: 1.8507  |  0:00:32s\n",
      "epoch 4  | loss: 4.21483 | val_0_rmse: 1.88434 |  0:00:40s\n",
      "epoch 5  | loss: 4.16712 | val_0_rmse: 1.81282 |  0:00:48s\n",
      "epoch 6  | loss: 4.07086 | val_0_rmse: 1.82794 |  0:00:56s\n",
      "epoch 7  | loss: 4.02129 | val_0_rmse: 1.81654 |  0:01:04s\n",
      "epoch 8  | loss: 3.97713 | val_0_rmse: 1.84421 |  0:01:13s\n",
      "epoch 9  | loss: 3.94203 | val_0_rmse: 1.96866 |  0:01:21s\n",
      "epoch 10 | loss: 3.88531 | val_0_rmse: 1.87138 |  0:01:29s\n",
      "epoch 11 | loss: 3.84459 | val_0_rmse: 1.77602 |  0:01:37s\n",
      "epoch 12 | loss: 3.81887 | val_0_rmse: 1.9641  |  0:01:45s\n",
      "epoch 13 | loss: 3.77863 | val_0_rmse: 1.92383 |  0:01:53s\n",
      "epoch 14 | loss: 3.72426 | val_0_rmse: 1.91596 |  0:02:01s\n",
      "epoch 15 | loss: 3.72097 | val_0_rmse: 2.04259 |  0:02:09s\n",
      "epoch 16 | loss: 3.70182 | val_0_rmse: 1.92225 |  0:02:16s\n",
      "epoch 17 | loss: 3.67405 | val_0_rmse: 2.03878 |  0:02:25s\n",
      "epoch 18 | loss: 3.60323 | val_0_rmse: 1.94146 |  0:02:33s\n",
      "epoch 19 | loss: 3.59696 | val_0_rmse: 1.8983  |  0:02:41s\n",
      "epoch 20 | loss: 3.55465 | val_0_rmse: 1.99009 |  0:02:48s\n",
      "epoch 21 | loss: 3.55189 | val_0_rmse: 2.14379 |  0:02:56s\n",
      "\n",
      "Early stopping occurred at epoch 21 with best_epoch = 11 and best_val_0_rmse = 1.77602\n",
      "epoch 0  | loss: 11.86923| val_0_rmse: 2.80451 |  0:00:08s\n",
      "epoch 1  | loss: 4.48639 | val_0_rmse: 2.13223 |  0:00:17s\n",
      "epoch 2  | loss: 4.21101 | val_0_rmse: 2.06295 |  0:00:25s\n",
      "epoch 3  | loss: 4.19107 | val_0_rmse: 2.11319 |  0:00:34s\n",
      "epoch 4  | loss: 4.1349  | val_0_rmse: 2.04495 |  0:00:42s\n",
      "epoch 5  | loss: 4.12406 | val_0_rmse: 2.02228 |  0:00:50s\n",
      "epoch 6  | loss: 4.07723 | val_0_rmse: 2.09866 |  0:00:58s\n",
      "epoch 7  | loss: 4.04387 | val_0_rmse: 2.10788 |  0:01:06s\n",
      "epoch 8  | loss: 4.01335 | val_0_rmse: 2.10458 |  0:01:14s\n",
      "epoch 9  | loss: 3.96175 | val_0_rmse: 2.11834 |  0:01:22s\n",
      "epoch 10 | loss: 3.93756 | val_0_rmse: 2.10786 |  0:01:30s\n",
      "epoch 11 | loss: 3.88229 | val_0_rmse: 2.13791 |  0:01:38s\n",
      "epoch 12 | loss: 3.86783 | val_0_rmse: 2.10242 |  0:01:46s\n",
      "epoch 13 | loss: 3.81016 | val_0_rmse: 2.08411 |  0:01:54s\n",
      "epoch 14 | loss: 3.78159 | val_0_rmse: 2.11989 |  0:02:02s\n",
      "epoch 15 | loss: 3.7302  | val_0_rmse: 2.12428 |  0:02:10s\n",
      "\n",
      "Early stopping occurred at epoch 15 with best_epoch = 5 and best_val_0_rmse = 2.02228\n",
      "epoch 0  | loss: 11.72714| val_0_rmse: 2.54623 |  0:00:07s\n",
      "epoch 1  | loss: 4.30026 | val_0_rmse: 2.13892 |  0:00:15s\n",
      "epoch 2  | loss: 4.13537 | val_0_rmse: 2.10918 |  0:00:23s\n",
      "epoch 3  | loss: 4.10082 | val_0_rmse: 2.20346 |  0:00:30s\n",
      "epoch 4  | loss: 4.04561 | val_0_rmse: 2.12028 |  0:00:38s\n",
      "epoch 5  | loss: 3.99457 | val_0_rmse: 2.11464 |  0:00:46s\n",
      "epoch 6  | loss: 4.13579 | val_0_rmse: 2.13021 |  0:00:53s\n",
      "epoch 7  | loss: 3.98416 | val_0_rmse: 2.09304 |  0:01:01s\n",
      "epoch 8  | loss: 3.90181 | val_0_rmse: 2.09544 |  0:01:08s\n",
      "epoch 9  | loss: 3.84288 | val_0_rmse: 2.1132  |  0:01:16s\n",
      "epoch 10 | loss: 3.75567 | val_0_rmse: 2.09644 |  0:01:24s\n",
      "epoch 11 | loss: 3.72942 | val_0_rmse: 2.0899  |  0:01:31s\n",
      "epoch 12 | loss: 3.69313 | val_0_rmse: 2.0857  |  0:01:39s\n",
      "epoch 13 | loss: 3.65997 | val_0_rmse: 2.08084 |  0:01:46s\n",
      "epoch 14 | loss: 3.62436 | val_0_rmse: 2.08283 |  0:01:54s\n",
      "epoch 15 | loss: 3.59043 | val_0_rmse: 2.10854 |  0:02:02s\n",
      "epoch 16 | loss: 3.5516  | val_0_rmse: 2.08344 |  0:02:09s\n",
      "epoch 17 | loss: 3.52704 | val_0_rmse: 2.10708 |  0:02:17s\n",
      "epoch 18 | loss: 3.50881 | val_0_rmse: 2.10296 |  0:02:25s\n",
      "epoch 19 | loss: 3.48201 | val_0_rmse: 2.13815 |  0:02:33s\n",
      "epoch 20 | loss: 3.45272 | val_0_rmse: 2.12523 |  0:02:40s\n",
      "epoch 21 | loss: 3.42971 | val_0_rmse: 2.09833 |  0:02:48s\n",
      "epoch 22 | loss: 3.38614 | val_0_rmse: 2.13464 |  0:02:56s\n",
      "epoch 23 | loss: 3.34893 | val_0_rmse: 2.09621 |  0:03:04s\n",
      "\n",
      "Early stopping occurred at epoch 23 with best_epoch = 13 and best_val_0_rmse = 2.08084\n"
     ]
    }
   ],
   "source": [
    "for idx_train, idx_valid in cv.split(X, y, groups=groups):\n",
    "    \n",
    "    # Split the data into training and validation sets for the current fold\n",
    "    X_train, y_train = X.iloc[idx_train].to_numpy(), y.iloc[idx_train].to_numpy()\n",
    "    X_valid, y_valid = X.iloc[idx_valid].to_numpy(), y.iloc[idx_valid].to_numpy()\n",
    "    \n",
    "    # Initialize the TabNet Regressor model\n",
    "    reg = TabNetRegressor(\n",
    "        grouped_features=grouped_features, \n",
    "    )\n",
    "    \n",
    "    # Train the model using the training set and validate using the validation set\n",
    "    reg.fit(\n",
    "        X_train, y_train,\n",
    "        eval_set=[(X_valid, y_valid)],\n",
    "        eval_metric=['rmse'],\n",
    "        batch_size=1024,\n",
    "    )\n",
    "    \n",
    "    # Prepare the test data and make predictions\n",
    "    X_test = test_impute.to_numpy()\n",
    "    \n",
    "    # Aggregate the predictions across the 5 folds (averaging for ensemble)\n",
    "    df_subm['bg+1:00'] += reg.predict(X_test)[:, 0] / 5\n",
    "    \n"
   ]
  },
  {
   "cell_type": "code",
   "execution_count": 124,
   "id": "1cd6ac85",
   "metadata": {},
   "outputs": [
    {
     "data": {
      "image/png": "[encoded data removed]",
      "text/plain": [
       "<Figure size 1200x800 with 1 Axes>"
      ]
     },
     "metadata": {},
     "output_type": "display_data"
    }
   ],
   "source": [
    "feature_importances = pd.DataFrame({\n",
    "    'feature': X.columns,\n",
    "    'importance': reg.feature_importances_\n",
    "})\n",
    "\n",
    "feature_importances.sort_values(\n",
    "    by=\"importance\", ascending=False, inplace=True,\n",
    ")\n",
    "\n",
    "plt.figure(figsize = (12, 8))\n",
    "sns.barplot(\n",
    "    y=feature_importances[\"feature\"][:20], \n",
    "    x=feature_importances[\"importance\"][:20],\n",
    ")\n",
    "plt.title(\"Feature Importance\")\n",
    "plt.show()"
   ]
  },
  {
   "cell_type": "code",
   "execution_count": 118,
   "id": "7792e2f0",
   "metadata": {},
   "outputs": [],
   "source": [
    "df_subm.to_csv(f\"{path}/Temp/submission.csv\",index=False)"
   ]
  },
  {
   "cell_type": "code",
   "execution_count": 123,
   "id": "6fc11183",
   "metadata": {},
   "outputs": [
    {
     "data": {
      "text/plain": [
       "Index(['bg-0-55', 'bg-0-50', 'bg-0-45', 'bg-0-40', 'bg-0-35', 'bg-0-30',\n",
       "       'bg-0-25', 'bg-0-20', 'bg-0-15', 'bg-0-10',\n",
       "       ...\n",
       "       'insu-last6-hour-mean', 'insu-last6-hour-sd', 'carbs-last6-hour-mean',\n",
       "       'carbs-last6-hour-sd', 'hr-last6-hour-mean', 'hr-last6-hour-sd',\n",
       "       'step-last6-hour-mean', 'step-last6-hour-sd', 'cals-last6-hour-mean',\n",
       "       'cals-last6-hour-sd'],\n",
       "      dtype='object', length=136)"
      ]
     },
     "execution_count": 123,
     "metadata": {},
     "output_type": "execute_result"
    }
   ],
   "source": [
    "X.columns"
   ]
  }
 ],
 "metadata": {
  "kernelspec": {
   "display_name": "Python (Peggy)",
   "language": "python",
   "name": "peggy"
  },
  "language_info": {
   "codemirror_mode": {
    "name": "ipython",
    "version": 3
   },
   "file_extension": ".py",
   "mimetype": "text/x-python",
   "name": "python",
   "nbconvert_exporter": "python",
   "pygments_lexer": "ipython3",
   "version": "3.12.1"
  }
 },
 "nbformat": 4,
 "nbformat_minor": 5
}
